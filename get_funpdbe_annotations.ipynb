{
  "nbformat": 4,
  "nbformat_minor": 0,
  "metadata": {
    "colab": {
      "provenance": [],
      "authorship_tag": "ABX9TyPVcJRhKRWrJhKPbIITXIQj",
      "include_colab_link": true
    },
    "kernelspec": {
      "name": "python3",
      "display_name": "Python 3"
    },
    "language_info": {
      "name": "python"
    }
  },
  "cells": [
    {
      "cell_type": "markdown",
      "metadata": {
        "id": "view-in-github",
        "colab_type": "text"
      },
      "source": [
        "<a href=\"https://colab.research.google.com/github/MicheleBonus/cpclab_notebooks/blob/main/get_funpdbe_annotations.ipynb\" target=\"_parent\"><img src=\"https://colab.research.google.com/assets/colab-badge.svg\" alt=\"Open In Colab\"/></a>"
      ]
    },
    {
      "cell_type": "code",
      "execution_count": null,
      "metadata": {
        "cellView": "form",
        "id": "_8x67naaW1J7"
      },
      "outputs": [],
      "source": [
        "# @title Run this code cell first\n",
        "import requests\n",
        "import pandas as pd\n",
        "\n",
        "def fetch_data_from_url(url):\n",
        "    try:\n",
        "        response = requests.get(url)\n",
        "        response.raise_for_status()\n",
        "        return response.json()\n",
        "    except requests.exceptions.RequestException as e:\n",
        "        print(f\"Error occurred while fetching data: {e}\")\n",
        "\n",
        "def get_funpdbe_annotations(pdb_id):\n",
        "    url = f\"https://www.ebi.ac.uk/pdbe/graph-api/pdb/funpdbe_annotation/{pdb_id}\"\n",
        "    funpdbe_annotations_json = fetch_data_from_url(url)\n",
        "    return funpdbe_annotations_json\n"
      ]
    },
    {
      "cell_type": "code",
      "source": [
        "pdb_id = \"4bkx\"\n",
        "funpdbe_annotations_response = get_funpdbe_annotations(pdb_id)\n",
        "\n",
        "# Dig through to the actual data we want (data from the 3Dcomplex server)\n",
        "annotations_3dcomplex = [dataset for dataset in funpdbe_annotations_response[pdb_id] if dataset[\"origin\"] == \"3Dcomplex\"][0][\"annotations\"]\n",
        "\n",
        "# Create a dictionary for your dataframes\n",
        "residues_data = {\n",
        "    \"interface\": annotations_3dcomplex[2][\"site_residues\"],\n",
        "    \"core\": annotations_3dcomplex[3][\"site_residues\"],\n",
        "    \"rim\": annotations_3dcomplex[4][\"site_residues\"],\n",
        "    \"support\": annotations_3dcomplex[5][\"site_residues\"],\n",
        "    \"interior\": annotations_3dcomplex[6][\"site_residues\"],\n",
        "    \"surface\": annotations_3dcomplex[7][\"site_residues\"]\n",
        "}\n",
        "\n",
        "# Add class column and concatenate\n",
        "all_residues = []\n",
        "\n",
        "for residue_class, data in residues_data.items():\n",
        "    df = pd.DataFrame(data)\n",
        "    df['class'] = residue_class\n",
        "    all_residues.append(df)\n",
        "\n",
        "final_dataframe = pd.concat(all_residues, axis=0, ignore_index=True)"
      ],
      "metadata": {
        "id": "OtIVLmUXXThe"
      },
      "execution_count": null,
      "outputs": []
    },
    {
      "cell_type": "code",
      "source": [
        "final_dataframe"
      ],
      "metadata": {
        "id": "CfKkgUXbXgR9"
      },
      "execution_count": null,
      "outputs": []
    },
    {
      "cell_type": "code",
      "source": [],
      "metadata": {
        "id": "w2IsdcBCXvPC"
      },
      "execution_count": null,
      "outputs": []
    }
  ]
}