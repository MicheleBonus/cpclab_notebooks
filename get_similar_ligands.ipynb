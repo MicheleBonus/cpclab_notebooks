{
  "nbformat": 4,
  "nbformat_minor": 0,
  "metadata": {
    "colab": {
      "provenance": [],
      "authorship_tag": "ABX9TyP34CtnALjLvlymXvlvyasO",
      "include_colab_link": true
    },
    "kernelspec": {
      "name": "python3",
      "display_name": "Python 3"
    },
    "language_info": {
      "name": "python"
    }
  },
  "cells": [
    {
      "cell_type": "markdown",
      "metadata": {
        "id": "view-in-github",
        "colab_type": "text"
      },
      "source": [
        "<a href=\"https://colab.research.google.com/github/MicheleBonus/cpclab_notebooks/blob/main/get_similar_ligands.ipynb\" target=\"_parent\"><img src=\"https://colab.research.google.com/assets/colab-badge.svg\" alt=\"Open In Colab\"/></a>"
      ]
    },
    {
      "cell_type": "code",
      "execution_count": null,
      "metadata": {
        "id": "HaUc39Z6TG7X"
      },
      "outputs": [],
      "source": [
        "import requests\n",
        "import pandas as pd\n",
        "\n",
        "def fetch_data_from_url(url):\n",
        "    try:\n",
        "        response = requests.get(url)\n",
        "        response.raise_for_status()\n",
        "        return response.json()\n",
        "    except requests.exceptions.RequestException as e:\n",
        "        print(f\"Error occurred while fetching data: {e}\")\n",
        "\n",
        "def get_similar_ligands(hetcode):\n",
        "    url = f\"https://www.ebi.ac.uk/pdbe/graph-api/compound/similarity/{hetcode}\"\n",
        "    similar_ligands_info_json = fetch_data_from_url(url)\n",
        "    return similar_ligands_info_json"
      ]
    },
    {
      "cell_type": "code",
      "source": [
        "ligand_hetcode = \"SHH\"\n",
        "similar_ligands_response = get_similar_ligands(ligand_hetcode)\n",
        "\n",
        "stereoisomers_list = similar_ligands_response[ligand_hetcode][0][\"stereoisomers\"]\n",
        "same_scaffold_list = similar_ligands_response[ligand_hetcode][0][\"same_scaffold\"]\n",
        "similar_ligands_list = similar_ligands_response[ligand_hetcode][0][\"similar_ligands\"]\n",
        "\n",
        "stereoisomers_df = pd.DataFrame(stereoisomers_list)\n",
        "same_scaffold_df = pd.DataFrame(same_scaffold_list)\n",
        "similar_ligands_df = pd.DataFrame(similar_ligands_list)\n",
        "\n",
        "similar_ligands_df"
      ],
      "metadata": {
        "id": "PA4Fq_BKTK7o"
      },
      "execution_count": null,
      "outputs": []
    },
    {
      "cell_type": "code",
      "source": [],
      "metadata": {
        "id": "YGgPbmlVTX-X"
      },
      "execution_count": null,
      "outputs": []
    }
  ]
}