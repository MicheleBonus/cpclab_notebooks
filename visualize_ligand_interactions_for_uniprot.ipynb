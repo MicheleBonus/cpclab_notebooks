{
  "nbformat": 4,
  "nbformat_minor": 0,
  "metadata": {
    "colab": {
      "provenance": [],
      "authorship_tag": "ABX9TyOVF/gUiYte3PSrLG3T09FG",
      "include_colab_link": true
    },
    "kernelspec": {
      "name": "python3",
      "display_name": "Python 3"
    },
    "language_info": {
      "name": "python"
    }
  },
  "cells": [
    {
      "cell_type": "markdown",
      "metadata": {
        "id": "view-in-github",
        "colab_type": "text"
      },
      "source": [
        "<a href=\"https://colab.research.google.com/github/MicheleBonus/cpclab_notebooks/blob/main/visualize_ligand_interactions_for_uniprot.ipynb\" target=\"_parent\"><img src=\"https://colab.research.google.com/assets/colab-badge.svg\" alt=\"Open In Colab\"/></a>"
      ]
    },
    {
      "cell_type": "code",
      "execution_count": null,
      "metadata": {
        "id": "CZX8I8H4ClQc"
      },
      "outputs": [],
      "source": [
        "# @title\n",
        "# ---- Required Libraries ----\n",
        "import requests\n",
        "import pandas as pd\n",
        "import matplotlib.pyplot as plt"
      ]
    },
    {
      "cell_type": "code",
      "source": [
        "def fetch_data_from_url(endpoint, id, base_url=\"https://www.ebi.ac.uk/pdbe/graph-api\"):\n",
        "    \"\"\"\n",
        "    Fetches data from the PDBe API using the specified endpoint and ID.\n",
        "\n",
        "    Parameters:\n",
        "    - endpoint (str): The endpoint of the API.\n",
        "    - id (str): The ID used in the API query.\n",
        "    - base_url (str, optional): The base URL for the API. Defaults to \"https://www.ebi.ac.uk/pdbe/graph-api\".\n",
        "\n",
        "    Returns:\n",
        "    - dict: Data returned from the API or None if there's an exception.\n",
        "    \"\"\"\n",
        "    url = f\"{base_url}/{endpoint}/{id}\"\n",
        "    try:\n",
        "        response = requests.get(url)\n",
        "        response.raise_for_status()\n",
        "        return response.json()\n",
        "    except requests.exceptions.RequestException as e:\n",
        "        print(f\"Error occurred while fetching data: {e}\")\n",
        "        return None"
      ],
      "metadata": {
        "id": "Cf4rtNEzCmje"
      },
      "execution_count": null,
      "outputs": []
    },
    {
      "cell_type": "code",
      "source": [
        "def extract_data_from_ligand_sites(ligand_sites):\n",
        "    \"\"\"\n",
        "    Extracts specific ligand site information from the raw data.\n",
        "\n",
        "    Parameters:\n",
        "    - ligand_sites (dict): Data containing ligand sites information.\n",
        "\n",
        "    Returns:\n",
        "    - list: List of dictionaries containing extracted data.\n",
        "    \"\"\"\n",
        "    extracted_data = []\n",
        "    for data_uniprot_accession, accession_data in ligand_sites.items():\n",
        "        for row in accession_data.get('data', []):\n",
        "            for residue in row.get('residues', []):\n",
        "                # Add extra fields to the residue data\n",
        "                residue['ligand_accession'] = row.get('accession')\n",
        "                residue['ligand_name'] = row.get('name')\n",
        "                residue['ligand_num_atoms'] = row.get('additionalData', {}).get('numAtoms')\n",
        "                residue['uniprot_accession'] = data_uniprot_accession\n",
        "                residue['interaction_ratio'] = len(residue.get('interactingPDBEntries', [])) / len(residue.get('allPDBEntries', []))\n",
        "                extracted_data.append(residue)\n",
        "    return extracted_data"
      ],
      "metadata": {
        "id": "joTsOAdNCobd"
      },
      "execution_count": null,
      "outputs": []
    },
    {
      "cell_type": "code",
      "source": [
        "def extract_data_from_ligands(ligands_data):\n",
        "    \"\"\"\n",
        "    Extracts ligand information from the raw data.\n",
        "\n",
        "    Parameters:\n",
        "    - ligands_data (dict): Data containing ligands information.\n",
        "\n",
        "    Returns:\n",
        "    - list: List of dictionaries containing extracted data.\n",
        "    \"\"\"\n",
        "    extracted_data = []\n",
        "    for data_uniprot_accession, accession_data in ligands_data.items():\n",
        "        for ligand_row in accession_data:\n",
        "            for ligand, attributes in ligand_row.items():\n",
        "                attributes['pdbs'] = \",\".join(attributes['pdbs'])\n",
        "                attributes['acts_as'] = \",\".join([item.strip() for item in attributes['acts_as']])\n",
        "                # Merge ligand code with its attributes\n",
        "                extracted_data.append({\"ligand_code\": ligand, **attributes})\n",
        "    return extracted_data"
      ],
      "metadata": {
        "id": "CFLJVq06CpIN"
      },
      "execution_count": null,
      "outputs": []
    },
    {
      "cell_type": "code",
      "source": [
        "def visualize_ligand_interactions(df_avg_interactions, ligands_of_interest, include_not_of_interest=False):\n",
        "    \"\"\"\n",
        "    Visualize the interaction of residues with ligands.\n",
        "\n",
        "    Parameters:\n",
        "    - df_avg_interactions (pd.DataFrame): Data containing average interactions.\n",
        "    - ligands_of_interest (list): List of ligands that are of special interest.\n",
        "    - include_not_of_interest (bool): Whether to include ligands not of interest in the visualization.\n",
        "    \"\"\"\n",
        "\n",
        "    plt.rcParams['figure.figsize'] = [12, 12]\n",
        "    fig, ax = plt.subplots()\n",
        "\n",
        "    # Plot ligands that are not of interest in blue, if include_not_of_interest is True\n",
        "    if include_not_of_interest:\n",
        "        ligands_not_of_interest = set(df_avg_interactions['ligand_accession']) - set(ligands_of_interest)\n",
        "        for ligand in ligands_not_of_interest:\n",
        "            interaction_data = df_avg_interactions[df_avg_interactions['ligand_accession'] == ligand]\n",
        "            interaction_data.plot.scatter(x='residue_number', y='ligand_accession', ax=ax,\n",
        "                                          s=interaction_data['interaction_ratio']*200, c='blue', alpha=0.6, label=f'Not of Interest: {ligand}')\n",
        "\n",
        "    # Plot ligands of interest in red\n",
        "    for ligand in ligands_of_interest:\n",
        "        interaction_data = df_avg_interactions[df_avg_interactions['ligand_accession'] == ligand]\n",
        "        interaction_data.plot.scatter(x='residue_number', y='ligand_accession', ax=ax,\n",
        "                                      s=interaction_data['interaction_ratio']*200, c='red', label=f'Of Interest: {ligand}')\n",
        "\n",
        "    plt.ylabel('Ligand')\n",
        "    plt.xlabel('UniProt Residue Number')\n",
        "    plt.title('Residues which interact with ligands,\\nSpheres scaled by interaction ratio in PDB entries')\n",
        "    plt.legend(loc=\"upper left\", bbox_to_anchor=(1,1))\n",
        "    plt.show()\n",
        "    plt.close()"
      ],
      "metadata": {
        "id": "CJTqDEoRCp3Z"
      },
      "execution_count": null,
      "outputs": []
    },
    {
      "cell_type": "code",
      "source": [
        "def main(uniprot_id, threshold_multiplier=2, base_url=\"https://www.ebi.ac.uk/pdbe/graph-api\"):\n",
        "    \"\"\"\n",
        "    Main function to fetch, process, and analyze ligand interaction data for a given UniProt ID.\n",
        "\n",
        "    Parameters:\n",
        "    - uniprot_id (str): The UniProt ID for which data should be fetched and analyzed.\n",
        "    - threshold_multiplier (float, optional): Multiplier for the standard deviation to determine the threshold for interactions. Defaults to 2.\n",
        "    - base_url (str, optional): The base URL for the API. Defaults to \"https://www.ebi.ac.uk/pdbe/graph-api\".\n",
        "\n",
        "    Returns:\n",
        "    - pd.DataFrame: DataFrame containing the average interactions for each residue-ligand pair.\n",
        "    \"\"\"\n",
        "\n",
        "    # Fetching ligand sites and ligand data for the specified UniProt ID\n",
        "    ligand_sites_raw_data = fetch_data_from_url(\"uniprot/ligand_sites\", uniprot_id, base_url=base_url)\n",
        "    ligands_raw_data = fetch_data_from_url(\"uniprot/ligands\", uniprot_id, base_url=base_url)\n",
        "\n",
        "    # Extracting relevant data from raw data\n",
        "    data_from_sites = extract_data_from_ligand_sites(ligand_sites_raw_data)\n",
        "    data_from_ligands = extract_data_from_ligands(ligands_raw_data)\n",
        "\n",
        "    # Transforming ligand site data into a DataFrame\n",
        "    df_sites = pd.DataFrame(data_from_sites).explode(column='interactingPDBEntries').reset_index(drop=True)\n",
        "    interactions_data = pd.json_normalize(df_sites['interactingPDBEntries'])\n",
        "    df_sites_enriched = df_sites.join(interactions_data).drop(columns='interactingPDBEntries')\n",
        "    df_sites_enriched['residue_number'] = df_sites_enriched['startIndex']\n",
        "\n",
        "    # Analyzing interactions: Counting interactions for each residue\n",
        "    df_interactions_count = df_sites_enriched.groupby('residue_number')['pdbId'].count().reset_index()\n",
        "    mean_interactions = df_interactions_count['pdbId'].mean()\n",
        "    std_interactions = df_interactions_count['pdbId'].std()\n",
        "\n",
        "    # Identifying residues with interaction counts greater than the specified standard deviations\n",
        "    residues_over_threshold = df_interactions_count.query(f'pdbId > {threshold_multiplier * std_interactions}')['residue_number']\n",
        "    ligands_of_interest = df_sites_enriched[df_sites_enriched['residue_number'].isin(residues_over_threshold)]['ligand_accession'].unique()\n",
        "\n",
        "    # Transforming ligands data into a DataFrame\n",
        "    df_ligands = pd.DataFrame(data_from_ligands)\n",
        "\n",
        "    # Calculating the mean interaction ratio for each residue-ligand pair\n",
        "    df_avg_interactions = df_sites_enriched.groupby(['residue_number', 'ligand_accession'])['interaction_ratio'].mean().reset_index()\n",
        "\n",
        "    return df_avg_interactions, ligands_of_interest"
      ],
      "metadata": {
        "id": "AKYsBTpICqkR"
      },
      "execution_count": null,
      "outputs": []
    },
    {
      "cell_type": "code",
      "source": [
        "df_avg_interactions, ligands_of_interest = main(\"Q9BY41\")"
      ],
      "metadata": {
        "id": "epQmtUALCrYh"
      },
      "execution_count": null,
      "outputs": []
    },
    {
      "cell_type": "code",
      "source": [
        "visualize_ligand_interactions(df_avg_interactions, ligands_of_interest, include_not_of_interest=True)"
      ],
      "metadata": {
        "id": "uIkgAFMsCsR3"
      },
      "execution_count": null,
      "outputs": []
    }
  ]
}